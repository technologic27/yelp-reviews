{
 "cells": [
  {
   "cell_type": "code",
   "execution_count": 1,
   "metadata": {},
   "outputs": [],
   "source": [
    "import json\n",
    "import pickle\n",
    "import pandas as pd\n",
    "import numpy as np\n",
    "import matplotlib.pyplot as plt\n",
    "from sklearn.metrics import f1_score, confusion_matrix, roc_curve, precision_score, recall_score"
   ]
  },
  {
   "cell_type": "code",
   "execution_count": 2,
   "metadata": {},
   "outputs": [],
   "source": [
    "with open('../models/model/dt.sav', 'rb') as ifile:\n",
    "    dt_model = pickle.load(ifile)\n",
    "\n",
    "with open('../models/model/rf.sav', 'rb') as ifile:\n",
    "    rf_model = pickle.load(ifile)\n",
    "    \n",
    "with open('../models/model/gb.sav', 'rb') as ifile:\n",
    "    gb_model = pickle.load(ifile)"
   ]
  },
  {
   "cell_type": "code",
   "execution_count": 3,
   "metadata": {},
   "outputs": [],
   "source": [
    "with open('../models/output/dt.json', 'rb') as ifile:\n",
    "    output = json.load(ifile)\n",
    "    dt_y_pred = output['y_pred_test']\n",
    "    X_test = output['X_test']\n",
    "    y_test = output['y_test']\n",
    "\n",
    "with open('../models/output/rf.json', 'rb') as ifile:\n",
    "    output = json.load(ifile)\n",
    "    rf_y_pred = output['y_pred_test']\n",
    "    \n",
    "with open('../models/output/gb.json', 'rb') as ifile:\n",
    "    output = json.load(ifile)\n",
    "    gb_y_pred = output['y_pred_test']"
   ]
  },
  {
   "cell_type": "code",
   "execution_count": 4,
   "metadata": {},
   "outputs": [
    {
     "name": "stdout",
     "output_type": "stream",
     "text": [
      "--Decision Tree Results--\n",
      "Accuracy:  0.707256046705588\n",
      "Precision:  0.7308957952468007\n",
      "Recall:  0.9090495679854479\n",
      "F1 Score:  0.8102959059586542\n",
      "Confusion Matrix: \n",
      " [[ 1574  4416]\n",
      " [ 1200 11994]]\n",
      "\n",
      "\n",
      "--Random Forest Results--\n",
      "Accuracy:  0.7131984987489575\n",
      "Precision:  0.7257572200046959\n",
      "Recall:  0.9370926178566015\n",
      "F1 Score:  0.8179953688389018\n",
      "Confusion Matrix: \n",
      " [[ 1318  4672]\n",
      " [  830 12364]]\n",
      "\n",
      "\n",
      "--Gradient Boosting Results--\n",
      "Accuracy:  0.7127814845704754\n",
      "Precision:  0.7294827380241309\n",
      "Recall:  0.9256480218281037\n",
      "F1 Score:  0.8159406734366648\n",
      "Confusion Matrix: \n",
      " [[ 1461  4529]\n",
      " [  981 12213]]\n",
      "\n",
      "\n"
     ]
    }
   ],
   "source": [
    "print('--Decision Tree Results--')\n",
    "print('Accuracy: ', dt_model.score(X_test, list(y_test)))\n",
    "print('Precision: ', precision_score(list(y_test), dt_y_pred))\n",
    "print('Recall: ', recall_score(list(y_test), dt_y_pred))\n",
    "print('F1 Score: ', f1_score(list(y_test), dt_y_pred))\n",
    "print('Confusion Matrix: \\n', confusion_matrix(list(y_test), dt_y_pred))\n",
    "print('\\n')\n",
    "\n",
    "print('--Random Forest Results--')\n",
    "print('Accuracy: ', rf_model.score(X_test, list(y_test)))\n",
    "print('Precision: ', precision_score(list(y_test), rf_y_pred))\n",
    "print('Recall: ', recall_score(list(y_test), rf_y_pred))\n",
    "print('F1 Score: ', f1_score(list(y_test), rf_y_pred))\n",
    "print('Confusion Matrix: \\n', confusion_matrix(list(y_test), rf_y_pred))\n",
    "print('\\n')\n",
    "\n",
    "print('--Gradient Boosting Results--')\n",
    "print('Accuracy: ', gb_model.score(X_test, list(y_test)))\n",
    "print('Precision: ', precision_score(list(y_test), gb_y_pred))\n",
    "print('Recall: ', recall_score(list(y_test), gb_y_pred))\n",
    "print('F1 Score: ', f1_score(list(y_test), gb_y_pred))\n",
    "print('Confusion Matrix: \\n', confusion_matrix(list(y_test), gb_y_pred))\n",
    "print('\\n')"
   ]
  },
  {
   "cell_type": "code",
   "execution_count": 5,
   "metadata": {},
   "outputs": [
    {
     "data": {
      "text/plain": [
       "<matplotlib.legend.Legend at 0x12d7e1550>"
      ]
     },
     "execution_count": 5,
     "metadata": {},
     "output_type": "execute_result"
    },
    {
     "data": {
      "image/png": "[encoded data removed]",
      "text/plain": [
       "<Figure size 432x288 with 1 Axes>"
      ]
     },
     "metadata": {
      "needs_background": "light"
     },
     "output_type": "display_data"
    }
   ],
   "source": [
    "y_score_A = dt_model.predict_proba(X_test)[:,1]\n",
    "y_score_B = rf_model.predict_proba(X_test)[:,1]\n",
    "y_score_C = gb_model.predict_proba(X_test)[:,1]\n",
    "fpr_A, tpr_A, _ = roc_curve(y_test,y_score_A)\n",
    "fpr_B, tpr_B, _ = roc_curve(y_test,y_score_B)\n",
    "fpr_C, tpr_C, _ = roc_curve(y_test,y_score_C)\n",
    "plt.plot([0,1],[0,1],'k--')\n",
    "\n",
    "plt.plot(fpr_A,tpr_A,label='Decision Tree')\n",
    "plt.plot(fpr_B,tpr_B,label='Random Forest')\n",
    "plt.plot(fpr_C,tpr_C,label='Gradient Boosting')\n",
    "\n",
    "plt.xlim([0.0, 1.0])\n",
    "plt.ylim([0.0, 1.05])\n",
    "plt.title('ROC Curves')\n",
    "plt.xlabel('False Positive Rate')\n",
    "plt.ylabel('True Positive Rate')\n",
    "plt.legend()"
   ]
  },
  {
   "cell_type": "code",
   "execution_count": 6,
   "metadata": {},
   "outputs": [
    {
     "name": "stdout",
     "output_type": "stream",
     "text": [
      "Feature ranking:\n",
      "1. feature: stars_coef (0.358982)\n",
      "2. feature: popularity (0.261514)\n",
      "3. feature: stars_mean_restaurant (0.185420)\n",
      "4. feature: neighbor_labels (0.113440)\n",
      "5. feature: stars_mean_neighborhood (0.080263)\n",
      "6. feature: is_above_average (0.000381)\n"
     ]
    }
   ],
   "source": [
    "num_features = ['stars_mean_neighborhood', 'stars_mean_restaurant',\\\n",
    "                'stars_coef','popularity']\n",
    "cat_features = ['neighbor_labels', 'is_above_average']\n",
    "\n",
    "\n",
    "df = pd.read_csv('../data/processed/features.csv')\n",
    "importances = gb_model.feature_importances_\n",
    "indices = np.argsort(importances)[::-1]\n",
    "print(\"Feature ranking:\")\n",
    "\n",
    "df_features = df[num_features + cat_features]\n",
    "\n",
    "for f in range(np.array(X_test).shape[1]):\n",
    "    print(\"%d. feature: %s (%f)\" % (f + 1, df_features.iloc[:,indices[f]].name, importances[indices[f]]))"
   ]
  },
  {
   "cell_type": "code",
   "execution_count": null,
   "metadata": {},
   "outputs": [],
   "source": []
  }
 ],
 "metadata": {
  "kernelspec": {
   "display_name": "Python 3",
   "language": "python",
   "name": "python3"
  },
  "language_info": {
   "codemirror_mode": {
    "name": "ipython",
    "version": 3
   },
   "file_extension": ".py",
   "mimetype": "text/x-python",
   "name": "python",
   "nbconvert_exporter": "python",
   "pygments_lexer": "ipython3",
   "version": "3.6.5"
  },
  "latex_envs": {
   "LaTeX_envs_menu_present": true,
   "autoclose": false,
   "autocomplete": true,
   "bibliofile": "biblio.bib",
   "cite_by": "apalike",
   "current_citInitial": 1,
   "eqLabelWithNumbers": true,
   "eqNumInitial": 1,
   "hotkeys": {
    "equation": "Ctrl-E",
    "itemize": "Ctrl-I"
   },
   "labels_anchors": false,
   "latex_user_defs": false,
   "report_style_numbering": false,
   "user_envs_cfg": false
  },
  "toc": {
   "base_numbering": 1,
   "nav_menu": {},
   "number_sections": true,
   "sideBar": true,
   "skip_h1_title": false,
   "title_cell": "Table of Contents",
   "title_sidebar": "Contents",
   "toc_cell": false,
   "toc_position": {},
   "toc_section_display": true,
   "toc_window_display": false
  },
  "varInspector": {
   "cols": {
    "lenName": 16,
    "lenType": 16,
    "lenVar": 40
   },
   "kernels_config": {
    "python": {
     "delete_cmd_postfix": "",
     "delete_cmd_prefix": "del ",
     "library": "var_list.py",
     "varRefreshCmd": "print(var_dic_list())"
    },
    "r": {
     "delete_cmd_postfix": ") ",
     "delete_cmd_prefix": "rm(",
     "library": "var_list.r",
     "varRefreshCmd": "cat(var_dic_list()) "
    }
   },
   "types_to_exclude": [
    "module",
    "function",
    "builtin_function_or_method",
    "instance",
    "_Feature"
   ],
   "window_display": false
  }
 },
 "nbformat": 4,
 "nbformat_minor": 4
}
